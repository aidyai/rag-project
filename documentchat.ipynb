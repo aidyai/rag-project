{
  "nbformat": 4,
  "nbformat_minor": 0,
  "metadata": {
    "colab": {
      "provenance": [],
      "authorship_tag": "ABX9TyOnqPLbpKr7niqOvleCSLij",
      "include_colab_link": true
    },
    "kernelspec": {
      "name": "python3",
      "display_name": "Python 3"
    },
    "language_info": {
      "name": "python"
    }
  },
  "cells": [
    {
      "cell_type": "markdown",
      "metadata": {
        "id": "view-in-github",
        "colab_type": "text"
      },
      "source": [
        "<a href=\"https://colab.research.google.com/github/aidyai/rag-project/blob/main/documentchat.ipynb\" target=\"_parent\"><img src=\"https://colab.research.google.com/assets/colab-badge.svg\" alt=\"Open In Colab\"/></a>"
      ]
    },
    {
      "cell_type": "markdown",
      "source": [
        "## IMPORTING RELEVANT LIBRARIES"
      ],
      "metadata": {
        "id": "F3Q5OAwH6N7u"
      }
    },
    {
      "cell_type": "code",
      "execution_count": null,
      "metadata": {
        "id": "1LlTr6LfwoUJ"
      },
      "outputs": [],
      "source": [
        "!pip install langchain\n",
        "!pip install gpt4all\n",
        "!pip install qdrant-client\n",
        "!pip install sentence-transformers\n",
        "!pip install torch\n",
        "!pip install pypdf"
      ]
    },
    {
      "cell_type": "markdown",
      "source": [
        "## Import Libraries"
      ],
      "metadata": {
        "id": "LnUuo5te7sGL"
      }
    },
    {
      "cell_type": "code",
      "source": [
        "import re\n",
        "\n",
        "\n",
        "from langchain_community.document_loaders import PyPDFLoader\n",
        "from langchain.text_splitter import CharacterTextSplitter\n",
        "from langchain_community.vectorstores import Qdrant\n",
        "from langchain_community.embeddings import HuggingFaceEmbeddings\n",
        "from langchain import PromptTemplate, LLMChain\n",
        "from langchain.callbacks.streaming_stdout import StreamingStdOutCallbackHandler\n",
        "\n",
        "\n",
        "from gpt4all import GPT4All"
      ],
      "metadata": {
        "id": "vDPtJKi07u4R"
      },
      "execution_count": null,
      "outputs": []
    },
    {
      "cell_type": "markdown",
      "source": [
        "## LOADING DOCUMENTS"
      ],
      "metadata": {
        "id": "JPCzsS0p6Juo"
      }
    },
    {
      "cell_type": "code",
      "source": [
        "#downloading pdf\n",
        "!wget \"https://inecnigeria.org/wp-content/uploads/2024/02/2023-GENERAL-ELECTION-REPORT-1.pdf\""
      ],
      "metadata": {
        "id": "6zc1c7Vwx_4F",
        "colab": {
          "base_uri": "https://localhost:8080/"
        },
        "outputId": "01466f04-bd0f-4b46-a56a-7a92ffb7b32f"
      },
      "execution_count": 6,
      "outputs": [
        {
          "output_type": "stream",
          "name": "stdout",
          "text": [
            "--2024-04-13 14:43:35--  https://inecnigeria.org/wp-content/uploads/2024/02/2023-GENERAL-ELECTION-REPORT-1.pdf\n",
            "Resolving inecnigeria.org (inecnigeria.org)... 54.155.1.49\n",
            "Connecting to inecnigeria.org (inecnigeria.org)|54.155.1.49|:443... connected.\n",
            "HTTP request sent, awaiting response... 200 OK\n",
            "Length: 17422886 (17M) [application/pdf]\n",
            "Saving to: ‘2023-GENERAL-ELECTION-REPORT-1.pdf’\n",
            "\n",
            "2023-GENERAL-ELECTI 100%[===================>]  16.62M  9.84MB/s    in 1.7s    \n",
            "\n",
            "2024-04-13 14:43:38 (9.84 MB/s) - ‘2023-GENERAL-ELECTION-REPORT-1.pdf’ saved [17422886/17422886]\n",
            "\n"
          ]
        }
      ]
    },
    {
      "cell_type": "code",
      "source": [
        "loader = PyPDFLoader(\"/content/2023-GENERAL-ELECTION-REPORT-1.pdf\")\n",
        "documents = loader.load()"
      ],
      "metadata": {
        "colab": {
          "base_uri": "https://localhost:8080/"
        },
        "id": "f4WyS_1u6Gya",
        "outputId": "3615b6c1-e813-4447-e2ce-85fb03f867f7"
      },
      "execution_count": 10,
      "outputs": [
        {
          "output_type": "stream",
          "name": "stderr",
          "text": [
            "WARNING:pypdf._reader:Ignoring wrong pointing object 14 0 (offset 0)\n",
            "WARNING:pypdf._reader:Ignoring wrong pointing object 44 0 (offset 0)\n",
            "WARNING:pypdf._reader:Ignoring wrong pointing object 78 0 (offset 0)\n",
            "WARNING:pypdf._reader:Ignoring wrong pointing object 98 0 (offset 0)\n",
            "WARNING:pypdf._reader:Ignoring wrong pointing object 242 0 (offset 0)\n",
            "WARNING:pypdf._reader:Ignoring wrong pointing object 267 0 (offset 0)\n",
            "WARNING:pypdf._reader:Ignoring wrong pointing object 610 0 (offset 0)\n"
          ]
        }
      ]
    },
    {
      "cell_type": "markdown",
      "source": [
        "### Data Preprocessing"
      ],
      "metadata": {
        "id": "-BBS2Xa27HGP"
      }
    },
    {
      "cell_type": "code",
      "source": [
        "def preprocess_text(text):\n",
        "    text_lower = text.lower()\n",
        "    # only allow these characters\n",
        "    text_no_punctuation = re.sub(r'[^\\w\\s\\$\\%\\.\\,\\\"\\'\\!\\?\\(\\)]', '',\n",
        "                                 text_lower)\n",
        "    # removes extra tabs space\n",
        "    text_normalized_tabs = re.sub(r'(\\t)+', '', text_no_punctuation)\n",
        "    return text_normalized_tabs"
      ],
      "metadata": {
        "id": "IkkRysEf6mrY"
      },
      "execution_count": 11,
      "outputs": []
    },
    {
      "cell_type": "code",
      "source": [
        "for x in range(len(documents)):\n",
        "    # do preprocessing\n",
        "    documents[x].page_content=preprocess_text(documents[x].page_content)"
      ],
      "metadata": {
        "id": "JdGwXETc7L7-"
      },
      "execution_count": 12,
      "outputs": []
    },
    {
      "cell_type": "code",
      "source": [
        "text_splitter = CharacterTextSplitter(chunk_size=1000, chunk_overlap=0,separator=\"\\n\")\n",
        "docs = text_splitter.split_documents(documents)"
      ],
      "metadata": {
        "id": "kEVPsDX57QE7"
      },
      "execution_count": 15,
      "outputs": []
    },
    {
      "cell_type": "markdown",
      "source": [
        "## Qdrant Vector Database and BAAI Embeddings"
      ],
      "metadata": {
        "id": "q3UXjvCm9r35"
      }
    },
    {
      "cell_type": "code",
      "source": [
        "embeddings = HuggingFaceEmbeddings(model_name=\"BAAI/bge-large-en-v1.5\",\n",
        "                                   model_kwargs = {'device': \"cpu\"})\n",
        "qdrant = Qdrant.from_documents(\n",
        "    docs,\n",
        "    embeddings,\n",
        "    location=\":memory:\",  # Local mode with in-memory storage only\n",
        "    collection_name=\"election_analytics\",\n",
        "    force_recreate=True\n",
        ")"
      ],
      "metadata": {
        "id": "KJfGFGNg7VAC"
      },
      "execution_count": null,
      "outputs": []
    },
    {
      "cell_type": "code",
      "source": [
        "def format_docs(query):\n",
        "    found_docs = qdrant.similarity_search_with_score(query,k=1)\n",
        "    return \"\\n\\n\".join(doc[0].page_content for doc in found_docs)"
      ],
      "metadata": {
        "id": "0m-d0Ldn_-Nq"
      },
      "execution_count": null,
      "outputs": []
    },
    {
      "cell_type": "markdown",
      "source": [
        "## MAKING USE OF LARGE LANGUAGE MODELS"
      ],
      "metadata": {
        "id": "KtT14BFoAGVu"
      }
    },
    {
      "cell_type": "code",
      "source": [
        "!mkdir models  #creating a directory called models\n",
        "\n",
        "# download model\n",
        "!wget https://gpt4all.io/models/gguf/mistral-7b-instruct-v0.1.Q4_0.gguf -O models/mistral-7b-instruct-v0.1.Q4_0.gguf"
      ],
      "metadata": {
        "id": "2k0_uyGLADH8"
      },
      "execution_count": null,
      "outputs": []
    },
    {
      "cell_type": "code",
      "source": [
        "llm = GPT4All(\n",
        "            model=\"mistral-7b-instruct-v0.1.Q4_0.gguf\",\n",
        "            max_tokens=300,\n",
        "            n_threads = 4,\n",
        "            temp=0.3,\n",
        "            top_p=0.2,\n",
        "            top_k=40,\n",
        "            n_batch=8,\n",
        "            seed=100,\n",
        "            allow_download=True,\n",
        "            verbose=True)"
      ],
      "metadata": {
        "id": "stzSv2cQAkdw"
      },
      "execution_count": null,
      "outputs": []
    },
    {
      "cell_type": "code",
      "source": [
        "template = '''[INST]: You are an Electoral Analytic bot from the UN Analyzing the just concluded 2023 General Elections In Nigeria, below presents a context from which the a question will be asked, give your valuable insights as well.[\\INST]\\n\n",
        "Context: {context}.\\n\n",
        "Question: {question}\\n\n",
        "Answer: '''"
      ],
      "metadata": {
        "id": "WVDARvjDA_P3"
      },
      "execution_count": null,
      "outputs": []
    },
    {
      "cell_type": "code",
      "source": [
        "rag_prompt = PromptTemplate(template=template, input_variables=[\"context\",\"question\"])\n",
        "\n",
        "\n",
        "callbacks = [StreamingStdOutCallbackHandler()]\n",
        "llm_chain = LLMChain(prompt=rag_prompt, llm=llm, verbose=True)"
      ],
      "metadata": {
        "id": "leS_Sw5PBnIm"
      },
      "execution_count": null,
      "outputs": []
    },
    {
      "cell_type": "code",
      "source": [
        "query = \"list the votes each party had from lowest to highest with percentages??\"\n",
        "resp = llm_chain.invoke(\n",
        "    input={\"question\":query,\n",
        "           \"context\": format_docs(query)\n",
        "          }\n",
        ")\n",
        "print(resp['text'])"
      ],
      "metadata": {
        "id": "-HkHPNcXCvuo"
      },
      "execution_count": null,
      "outputs": []
    }
  ]
}